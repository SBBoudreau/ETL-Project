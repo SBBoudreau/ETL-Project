{
 "cells": [
  {
   "cell_type": "markdown",
   "metadata": {},
   "source": [
    "# Realtor.com  + Zillow.com"
   ]
  },
  {
   "cell_type": "code",
   "execution_count": 5,
   "metadata": {},
   "outputs": [],
   "source": [
    "import pandas as pd\n",
    "from sqlalchemy import create_engine\n",
    "import os"
   ]
  },
  {
   "cell_type": "markdown",
   "metadata": {
    "slideshow": {
     "slide_type": "-"
    }
   },
   "source": [
    "### Store CSV into DataFrame"
   ]
  },
  {
   "cell_type": "code",
   "execution_count": 6,
   "metadata": {},
   "outputs": [
    {
     "data": {
      "text/html": [
       "<div>\n",
       "<style scoped>\n",
       "    .dataframe tbody tr th:only-of-type {\n",
       "        vertical-align: middle;\n",
       "    }\n",
       "\n",
       "    .dataframe tbody tr th {\n",
       "        vertical-align: top;\n",
       "    }\n",
       "\n",
       "    .dataframe thead th {\n",
       "        text-align: right;\n",
       "    }\n",
       "</style>\n",
       "<table border=\"1\" class=\"dataframe\">\n",
       "  <thead>\n",
       "    <tr style=\"text-align: right;\">\n",
       "      <th></th>\n",
       "      <th>month_date_yyyymm</th>\n",
       "      <th>postal_code</th>\n",
       "      <th>zip_name</th>\n",
       "      <th>flag</th>\n",
       "      <th>median_listing_price</th>\n",
       "      <th>median_listing_price_mm</th>\n",
       "      <th>median_listing_price_yy</th>\n",
       "      <th>active_listing_count</th>\n",
       "      <th>active_listing_count_mm</th>\n",
       "      <th>active_listing_count_yy</th>\n",
       "      <th>...</th>\n",
       "      <th>median_square_feet_yy</th>\n",
       "      <th>average_listing_price</th>\n",
       "      <th>average_listing_price_mm</th>\n",
       "      <th>average_listing_price_yy</th>\n",
       "      <th>total_listing_count</th>\n",
       "      <th>total_listing_count_mm</th>\n",
       "      <th>total_listing_count_yy</th>\n",
       "      <th>pending_ratio</th>\n",
       "      <th>pending_ratio_mm</th>\n",
       "      <th>pending_ratio_yy</th>\n",
       "    </tr>\n",
       "  </thead>\n",
       "  <tbody>\n",
       "    <tr>\n",
       "      <th>0</th>\n",
       "      <td>202009</td>\n",
       "      <td>97703</td>\n",
       "      <td>bend, or</td>\n",
       "      <td>*</td>\n",
       "      <td>914549.5</td>\n",
       "      <td>0.0218</td>\n",
       "      <td>NaN</td>\n",
       "      <td>107.0</td>\n",
       "      <td>0.0700</td>\n",
       "      <td>NaN</td>\n",
       "      <td>...</td>\n",
       "      <td>0.0388</td>\n",
       "      <td>1198963.0</td>\n",
       "      <td>0.0281</td>\n",
       "      <td>0.2502</td>\n",
       "      <td>288.0</td>\n",
       "      <td>-0.0799</td>\n",
       "      <td>-0.3394</td>\n",
       "      <td>1.6916</td>\n",
       "      <td>-0.4384</td>\n",
       "      <td>1.3075</td>\n",
       "    </tr>\n",
       "    <tr>\n",
       "      <th>1</th>\n",
       "      <td>202009</td>\n",
       "      <td>4572</td>\n",
       "      <td>waldoboro, me</td>\n",
       "      <td>NaN</td>\n",
       "      <td>235050.0</td>\n",
       "      <td>0.0981</td>\n",
       "      <td>0.0380</td>\n",
       "      <td>17.0</td>\n",
       "      <td>0.2143</td>\n",
       "      <td>-0.4848</td>\n",
       "      <td>...</td>\n",
       "      <td>0.3504</td>\n",
       "      <td>287365.0</td>\n",
       "      <td>0.0986</td>\n",
       "      <td>0.1052</td>\n",
       "      <td>23.0</td>\n",
       "      <td>0.2105</td>\n",
       "      <td>-0.4103</td>\n",
       "      <td>0.3529</td>\n",
       "      <td>-0.0042</td>\n",
       "      <td>0.1711</td>\n",
       "    </tr>\n",
       "    <tr>\n",
       "      <th>2</th>\n",
       "      <td>202009</td>\n",
       "      <td>85379</td>\n",
       "      <td>surprise, az</td>\n",
       "      <td>*</td>\n",
       "      <td>340050.0</td>\n",
       "      <td>0.0625</td>\n",
       "      <td>NaN</td>\n",
       "      <td>54.0</td>\n",
       "      <td>0.4211</td>\n",
       "      <td>NaN</td>\n",
       "      <td>...</td>\n",
       "      <td>-0.1608</td>\n",
       "      <td>355044.0</td>\n",
       "      <td>0.0307</td>\n",
       "      <td>0.0626</td>\n",
       "      <td>218.0</td>\n",
       "      <td>-0.0046</td>\n",
       "      <td>-0.3272</td>\n",
       "      <td>3.0370</td>\n",
       "      <td>-1.7261</td>\n",
       "      <td>2.0120</td>\n",
       "    </tr>\n",
       "    <tr>\n",
       "      <th>3</th>\n",
       "      <td>202009</td>\n",
       "      <td>14845</td>\n",
       "      <td>horseheads, ny</td>\n",
       "      <td>*</td>\n",
       "      <td>278500.0</td>\n",
       "      <td>-0.0656</td>\n",
       "      <td>0.1091</td>\n",
       "      <td>38.0</td>\n",
       "      <td>-0.0256</td>\n",
       "      <td>NaN</td>\n",
       "      <td>...</td>\n",
       "      <td>-0.0954</td>\n",
       "      <td>274070.0</td>\n",
       "      <td>-0.0076</td>\n",
       "      <td>0.0179</td>\n",
       "      <td>86.0</td>\n",
       "      <td>-0.0227</td>\n",
       "      <td>-0.0549</td>\n",
       "      <td>1.2632</td>\n",
       "      <td>0.0067</td>\n",
       "      <td>0.5780</td>\n",
       "    </tr>\n",
       "    <tr>\n",
       "      <th>4</th>\n",
       "      <td>202009</td>\n",
       "      <td>62454</td>\n",
       "      <td>robinson, il</td>\n",
       "      <td>NaN</td>\n",
       "      <td>109950.0</td>\n",
       "      <td>0.0000</td>\n",
       "      <td>-0.0443</td>\n",
       "      <td>88.0</td>\n",
       "      <td>-0.0435</td>\n",
       "      <td>-0.1927</td>\n",
       "      <td>...</td>\n",
       "      <td>-0.1889</td>\n",
       "      <td>135324.0</td>\n",
       "      <td>0.0107</td>\n",
       "      <td>-0.0552</td>\n",
       "      <td>91.0</td>\n",
       "      <td>-0.0619</td>\n",
       "      <td>-0.1727</td>\n",
       "      <td>0.0341</td>\n",
       "      <td>-0.0203</td>\n",
       "      <td>0.0249</td>\n",
       "    </tr>\n",
       "  </tbody>\n",
       "</table>\n",
       "<p>5 rows × 40 columns</p>\n",
       "</div>"
      ],
      "text/plain": [
       "  month_date_yyyymm postal_code        zip_name flag  median_listing_price  \\\n",
       "0            202009       97703        bend, or    *              914549.5   \n",
       "1            202009        4572   waldoboro, me  NaN              235050.0   \n",
       "2            202009       85379    surprise, az    *              340050.0   \n",
       "3            202009       14845  horseheads, ny    *              278500.0   \n",
       "4            202009       62454    robinson, il  NaN              109950.0   \n",
       "\n",
       "   median_listing_price_mm  median_listing_price_yy  active_listing_count  \\\n",
       "0                   0.0218                      NaN                 107.0   \n",
       "1                   0.0981                   0.0380                  17.0   \n",
       "2                   0.0625                      NaN                  54.0   \n",
       "3                  -0.0656                   0.1091                  38.0   \n",
       "4                   0.0000                  -0.0443                  88.0   \n",
       "\n",
       "   active_listing_count_mm  active_listing_count_yy  ...  \\\n",
       "0                   0.0700                      NaN  ...   \n",
       "1                   0.2143                  -0.4848  ...   \n",
       "2                   0.4211                      NaN  ...   \n",
       "3                  -0.0256                      NaN  ...   \n",
       "4                  -0.0435                  -0.1927  ...   \n",
       "\n",
       "   median_square_feet_yy  average_listing_price  average_listing_price_mm  \\\n",
       "0                 0.0388              1198963.0                    0.0281   \n",
       "1                 0.3504               287365.0                    0.0986   \n",
       "2                -0.1608               355044.0                    0.0307   \n",
       "3                -0.0954               274070.0                   -0.0076   \n",
       "4                -0.1889               135324.0                    0.0107   \n",
       "\n",
       "   average_listing_price_yy  total_listing_count  total_listing_count_mm  \\\n",
       "0                    0.2502                288.0                 -0.0799   \n",
       "1                    0.1052                 23.0                  0.2105   \n",
       "2                    0.0626                218.0                 -0.0046   \n",
       "3                    0.0179                 86.0                 -0.0227   \n",
       "4                   -0.0552                 91.0                 -0.0619   \n",
       "\n",
       "   total_listing_count_yy  pending_ratio  pending_ratio_mm  pending_ratio_yy  \n",
       "0                 -0.3394         1.6916           -0.4384            1.3075  \n",
       "1                 -0.4103         0.3529           -0.0042            0.1711  \n",
       "2                 -0.3272         3.0370           -1.7261            2.0120  \n",
       "3                 -0.0549         1.2632            0.0067            0.5780  \n",
       "4                 -0.1727         0.0341           -0.0203            0.0249  \n",
       "\n",
       "[5 rows x 40 columns]"
      ]
     },
     "execution_count": 6,
     "metadata": {},
     "output_type": "execute_result"
    }
   ],
   "source": [
    "csv_file = os.path.join(\"Resources\", \"realtor.csv\")\n",
    "price_data_df = pd.read_csv(csv_file)\n",
    "price_data_df.head()"
   ]
  },
  {
   "cell_type": "markdown",
   "metadata": {},
   "source": [
    "### Create new data with select columns"
   ]
  },
  {
   "cell_type": "code",
   "execution_count": 7,
   "metadata": {},
   "outputs": [
    {
     "data": {
      "text/html": [
       "<div>\n",
       "<style scoped>\n",
       "    .dataframe tbody tr th:only-of-type {\n",
       "        vertical-align: middle;\n",
       "    }\n",
       "\n",
       "    .dataframe tbody tr th {\n",
       "        vertical-align: top;\n",
       "    }\n",
       "\n",
       "    .dataframe thead th {\n",
       "        text-align: right;\n",
       "    }\n",
       "</style>\n",
       "<table border=\"1\" class=\"dataframe\">\n",
       "  <thead>\n",
       "    <tr style=\"text-align: right;\">\n",
       "      <th></th>\n",
       "      <th>postal_code</th>\n",
       "      <th>median_listing_price</th>\n",
       "      <th>average_listing_price</th>\n",
       "      <th>total_listing_count</th>\n",
       "    </tr>\n",
       "  </thead>\n",
       "  <tbody>\n",
       "    <tr>\n",
       "      <th>0</th>\n",
       "      <td>97703</td>\n",
       "      <td>914549.5</td>\n",
       "      <td>1198963.0</td>\n",
       "      <td>288.0</td>\n",
       "    </tr>\n",
       "    <tr>\n",
       "      <th>1</th>\n",
       "      <td>4572</td>\n",
       "      <td>235050.0</td>\n",
       "      <td>287365.0</td>\n",
       "      <td>23.0</td>\n",
       "    </tr>\n",
       "    <tr>\n",
       "      <th>2</th>\n",
       "      <td>85379</td>\n",
       "      <td>340050.0</td>\n",
       "      <td>355044.0</td>\n",
       "      <td>218.0</td>\n",
       "    </tr>\n",
       "    <tr>\n",
       "      <th>3</th>\n",
       "      <td>14845</td>\n",
       "      <td>278500.0</td>\n",
       "      <td>274070.0</td>\n",
       "      <td>86.0</td>\n",
       "    </tr>\n",
       "    <tr>\n",
       "      <th>4</th>\n",
       "      <td>62454</td>\n",
       "      <td>109950.0</td>\n",
       "      <td>135324.0</td>\n",
       "      <td>91.0</td>\n",
       "    </tr>\n",
       "  </tbody>\n",
       "</table>\n",
       "</div>"
      ],
      "text/plain": [
       "  postal_code  median_listing_price  average_listing_price  \\\n",
       "0       97703              914549.5              1198963.0   \n",
       "1        4572              235050.0               287365.0   \n",
       "2       85379              340050.0               355044.0   \n",
       "3       14845              278500.0               274070.0   \n",
       "4       62454              109950.0               135324.0   \n",
       "\n",
       "   total_listing_count  \n",
       "0                288.0  \n",
       "1                 23.0  \n",
       "2                218.0  \n",
       "3                 86.0  \n",
       "4                 91.0  "
      ]
     },
     "execution_count": 7,
     "metadata": {},
     "output_type": "execute_result"
    }
   ],
   "source": [
    "price_df = price_data_df[['postal_code', 'median_listing_price', 'average_listing_price', 'total_listing_count']].copy()\n",
    "price_df.head()"
   ]
  },
  {
   "cell_type": "markdown",
   "metadata": {},
   "source": [
    "### Store JSON data into a DataFrame"
   ]
  },
  {
   "cell_type": "code",
   "execution_count": 4,
   "metadata": {},
   "outputs": [
    {
     "data": {
      "text/html": [
       "<div>\n",
       "<style scoped>\n",
       "    .dataframe tbody tr th:only-of-type {\n",
       "        vertical-align: middle;\n",
       "    }\n",
       "\n",
       "    .dataframe tbody tr th {\n",
       "        vertical-align: top;\n",
       "    }\n",
       "\n",
       "    .dataframe thead th {\n",
       "        text-align: right;\n",
       "    }\n",
       "</style>\n",
       "<table border=\"1\" class=\"dataframe\">\n",
       "  <thead>\n",
       "    <tr style=\"text-align: right;\">\n",
       "      <th></th>\n",
       "      <th>id</th>\n",
       "      <th>address</th>\n",
       "      <th>longitude</th>\n",
       "      <th>latitude</th>\n",
       "      <th>us_state</th>\n",
       "    </tr>\n",
       "  </thead>\n",
       "  <tbody>\n",
       "    <tr>\n",
       "      <th>0</th>\n",
       "      <td>1</td>\n",
       "      <td>043 Mockingbird Place</td>\n",
       "      <td>-86.5186</td>\n",
       "      <td>39.1682</td>\n",
       "      <td>Indiana</td>\n",
       "    </tr>\n",
       "    <tr>\n",
       "      <th>1</th>\n",
       "      <td>2</td>\n",
       "      <td>4 Prentice Point</td>\n",
       "      <td>-85.0707</td>\n",
       "      <td>41.0938</td>\n",
       "      <td>Indiana</td>\n",
       "    </tr>\n",
       "    <tr>\n",
       "      <th>2</th>\n",
       "      <td>3</td>\n",
       "      <td>46 Derek Junction</td>\n",
       "      <td>-96.7776</td>\n",
       "      <td>32.7673</td>\n",
       "      <td>Texas</td>\n",
       "    </tr>\n",
       "    <tr>\n",
       "      <th>3</th>\n",
       "      <td>4</td>\n",
       "      <td>11966 Old Shore Place</td>\n",
       "      <td>-94.3567</td>\n",
       "      <td>39.0350</td>\n",
       "      <td>Missouri</td>\n",
       "    </tr>\n",
       "    <tr>\n",
       "      <th>4</th>\n",
       "      <td>5</td>\n",
       "      <td>5 Evergreen Circle</td>\n",
       "      <td>-73.9772</td>\n",
       "      <td>40.7808</td>\n",
       "      <td>New York</td>\n",
       "    </tr>\n",
       "  </tbody>\n",
       "</table>\n",
       "</div>"
      ],
      "text/plain": [
       "   id                address  longitude  latitude  us_state\n",
       "0   1  043 Mockingbird Place   -86.5186   39.1682   Indiana\n",
       "1   2       4 Prentice Point   -85.0707   41.0938   Indiana\n",
       "2   3      46 Derek Junction   -96.7776   32.7673     Texas\n",
       "3   4  11966 Old Shore Place   -94.3567   39.0350  Missouri\n",
       "4   5     5 Evergreen Circle   -73.9772   40.7808  New York"
      ]
     },
     "execution_count": 4,
     "metadata": {},
     "output_type": "execute_result"
    }
   ],
   "source": [
    "json_file = os.path.join(\"..\", \"Resources\", \"customer_location.json\")\n",
    "customer_location_df = pd.read_json(json_file)\n",
    "customer_location_df.head()"
   ]
  },
  {
   "cell_type": "markdown",
   "metadata": {},
   "source": [
    "### Clean DataFrame"
   ]
  },
  {
   "cell_type": "code",
   "execution_count": 5,
   "metadata": {},
   "outputs": [
    {
     "data": {
      "text/html": [
       "<div>\n",
       "<style scoped>\n",
       "    .dataframe tbody tr th:only-of-type {\n",
       "        vertical-align: middle;\n",
       "    }\n",
       "\n",
       "    .dataframe tbody tr th {\n",
       "        vertical-align: top;\n",
       "    }\n",
       "\n",
       "    .dataframe thead th {\n",
       "        text-align: right;\n",
       "    }\n",
       "</style>\n",
       "<table border=\"1\" class=\"dataframe\">\n",
       "  <thead>\n",
       "    <tr style=\"text-align: right;\">\n",
       "      <th></th>\n",
       "      <th>id</th>\n",
       "      <th>address</th>\n",
       "      <th>us_state</th>\n",
       "    </tr>\n",
       "  </thead>\n",
       "  <tbody>\n",
       "    <tr>\n",
       "      <th>0</th>\n",
       "      <td>1</td>\n",
       "      <td>043 Mockingbird Place</td>\n",
       "      <td>Indiana</td>\n",
       "    </tr>\n",
       "    <tr>\n",
       "      <th>1</th>\n",
       "      <td>2</td>\n",
       "      <td>4 Prentice Point</td>\n",
       "      <td>Indiana</td>\n",
       "    </tr>\n",
       "    <tr>\n",
       "      <th>2</th>\n",
       "      <td>3</td>\n",
       "      <td>46 Derek Junction</td>\n",
       "      <td>Texas</td>\n",
       "    </tr>\n",
       "    <tr>\n",
       "      <th>3</th>\n",
       "      <td>4</td>\n",
       "      <td>11966 Old Shore Place</td>\n",
       "      <td>Missouri</td>\n",
       "    </tr>\n",
       "    <tr>\n",
       "      <th>4</th>\n",
       "      <td>5</td>\n",
       "      <td>5 Evergreen Circle</td>\n",
       "      <td>New York</td>\n",
       "    </tr>\n",
       "  </tbody>\n",
       "</table>\n",
       "</div>"
      ],
      "text/plain": [
       "   id                address  us_state\n",
       "0   1  043 Mockingbird Place   Indiana\n",
       "1   2       4 Prentice Point   Indiana\n",
       "2   3      46 Derek Junction     Texas\n",
       "3   4  11966 Old Shore Place  Missouri\n",
       "4   5     5 Evergreen Circle  New York"
      ]
     },
     "execution_count": 5,
     "metadata": {},
     "output_type": "execute_result"
    }
   ],
   "source": [
    "new_customer_location_df = customer_location_df[[\"id\", \"address\", \"us_state\"]].copy()\n",
    "new_customer_location_df.head()"
   ]
  },
  {
   "cell_type": "markdown",
   "metadata": {},
   "source": [
    "### Connect to local database"
   ]
  },
  {
   "cell_type": "code",
   "execution_count": null,
   "metadata": {},
   "outputs": [],
   "source": [
    "pg_user = 'postgres'\n",
    "pg_password = 'postgres'\n",
    "db_name = 'customer_db'\n",
    "\n",
    "connection_string = f\"{pg_user}:{pg_password}@localhost:5432/{db_name}\"\n",
    "engine = create_engine(f'postgresql://{connection_string}')\n",
    "\n",
    "#before runining this create a database in postgres that the file will write to."
   ]
  },
  {
   "cell_type": "markdown",
   "metadata": {},
   "source": [
    "### Check for tables"
   ]
  },
  {
   "cell_type": "code",
   "execution_count": null,
   "metadata": {},
   "outputs": [],
   "source": [
    "engine.table_names()\n",
    "\n",
    "##confirm that there are no table in the SQL database"
   ]
  },
  {
   "cell_type": "markdown",
   "metadata": {},
   "source": [
    "### Use pandas to load csv converted DataFrame into database"
   ]
  },
  {
   "cell_type": "code",
   "execution_count": null,
   "metadata": {},
   "outputs": [],
   "source": [
    "new_customer_data_df.to_sql(name='customer_name', con=engine, if_exists='append', index=False)\n",
    "\n",
    "#to sqlfunction... uses the tables that have been created in pandas and writes it to sql as is."
   ]
  },
  {
   "cell_type": "markdown",
   "metadata": {},
   "source": [
    "### Use pandas to load json converted DataFrame into database"
   ]
  },
  {
   "cell_type": "code",
   "execution_count": null,
   "metadata": {},
   "outputs": [],
   "source": [
    "#before running this create table,describe tableformatting and specifying primary key. then use Pandas to write to the file\n",
    "#this ensures that the table doesnt have duplicates. since it callson the primary key it wont allow that to happen\n",
    "\n",
    "\n",
    "new_customer_location_df.to_sql(name='customer_location', con=engine, if_exists='append', index=False)"
   ]
  },
  {
   "cell_type": "markdown",
   "metadata": {},
   "source": [
    "### Confirm data has been added by querying the customer_name table\n",
    "* NOTE: can also check using pgAdmin"
   ]
  },
  {
   "cell_type": "code",
   "execution_count": null,
   "metadata": {},
   "outputs": [],
   "source": [
    "pd.read_sql_query('select * from customer_name', con=engine).head()"
   ]
  },
  {
   "cell_type": "markdown",
   "metadata": {},
   "source": [
    "### Confirm data has been added by querying the customer_location table"
   ]
  },
  {
   "cell_type": "code",
   "execution_count": null,
   "metadata": {},
   "outputs": [],
   "source": [
    "pd.read_sql_query('select * from customer_location', con=engine).head()"
   ]
  },
  {
   "cell_type": "code",
   "execution_count": null,
   "metadata": {},
   "outputs": [],
   "source": []
  }
 ],
 "metadata": {
  "kernelspec": {
   "display_name": "Python 3",
   "language": "python",
   "name": "python3"
  },
  "language_info": {
   "codemirror_mode": {
    "name": "ipython",
    "version": 3
   },
   "file_extension": ".py",
   "mimetype": "text/x-python",
   "name": "python",
   "nbconvert_exporter": "python",
   "pygments_lexer": "ipython3",
   "version": "3.8.3"
  },
  "nteract": {
   "version": "0.12.3"
  }
 },
 "nbformat": 4,
 "nbformat_minor": 4
}
